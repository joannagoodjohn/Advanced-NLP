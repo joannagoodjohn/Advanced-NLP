{
 "cells": [
  {
   "cell_type": "markdown",
   "metadata": {},
   "source": [
    "# ANLP 2019 - Assignment 4\n"
   ]
  },
  {
   "cell_type": "markdown",
   "metadata": {},
   "source": [
    "*Kalogianni Ioanna, 5000659597* (enter your name/student id number here)"
   ]
  },
  {
   "cell_type": "markdown",
   "metadata": {},
   "source": [
    "<div class=\"alert alert-block alert-danger\">Due: Wednesday, December 18, 4pm</div>"
   ]
  },
  {
   "cell_type": "markdown",
   "metadata": {},
   "source": [
    "<div class=\"alert alert-block alert-info\">\n",
    "**NOTE**<br><br>\n",
    "\n",
    "Please first fill in your name and id number at the top of the assignment, and **rename** the assignment file to **yourlastname-anlp-4.ipynb**<br><br>\n",
    "Problems and questions are given in blue boxes like this one. All grey and white boxes must be filled by you (they either require code or a (brief!) discussion). <br><br>\n",
    "Please hand in your assignment by the deadline via Moodle. In case of questions, you can contact the TAs or David via the usual channels.\n",
    "</div>"
   ]
  },
  {
   "cell_type": "markdown",
   "metadata": {},
   "source": [
    "<div class=\"alert alert-block alert-info\">\n",
    "In this assignment, you will implement a feedforward neural network and train it with backpropagation to classify intent from the provided dataset (<https://github.com/Dark-Sied/Intent_Classification>). For the purpose of understanding the learning process, the whole dataset is used as both training and test data. (What does that mean for your results?)<br><br>\n",
    "\n",
    "You should implement all part of this exercise using only python + standard library + NumPy. (That is, no specialised machine learning libraries are allowed.) Here is a list of NumPy functions that may or may not be useful for this task: <br>\n",
    "`np.array(), np.eye(), np.reshape(), np.ones(), np.zeros(), np.dot(), np.concatenate(), np.maximum(), np.argmax(), np.sum(), np.uniform()`. <br><br>\n",
    "\n",
    "A more comprehensive introduction to NumPy can be found here: <https://sites.engineering.ucsb.edu/~shell/che210d/numpy.pdf> .\n",
    "\n",
    "</div>"
   ]
  },
  {
   "cell_type": "code",
   "execution_count": 67,
   "metadata": {},
   "outputs": [],
   "source": [
    "# For your convenience, a function for reading in the dataset:\n",
    "import csv\n",
    "\n",
    "def load_dataset(filename):\n",
    "    intent = []\n",
    "    unique_intent = []\n",
    "    sentences = []\n",
    "    with open(filename, \"r\", encoding=\"latin1\") as f:\n",
    "        data = csv.reader(f, delimiter=\",\")\n",
    "        for row in data:\n",
    "            sentences.append(row[0])\n",
    "            intent.append(row[1])\n",
    "    unique_intent = set(intent)\n",
    "    return sentences, intent, unique_intent\n",
    "            \n",
    "sentences, intent, unique_intent = load_dataset(\"dataset.csv\")"
   ]
  },
  {
   "cell_type": "code",
   "execution_count": 81,
   "metadata": {},
   "outputs": [],
   "source": [
    "data = load_dataset(\"dataset.csv\")"
   ]
  },
  {
   "cell_type": "markdown",
   "metadata": {},
   "source": [
    "## Problem 1: Bag-of-Words Representation"
   ]
  },
  {
   "cell_type": "markdown",
   "metadata": {},
   "source": [
    "<div class=\"alert alert-block alert-info\">\n",
    "The first thing you're being asked to do is to convert the text into a bag-of-words representation matrix where the dimension of the matrix is $V$ x $M$ ($M$: number of examples, $V$: vocabulary size) and the label to a matrix of dimension $K$ x $M$ where $K$ is number of classes.   \n",
    "<div>"
   ]
  },
  {
   "cell_type": "code",
   "execution_count": 209,
   "metadata": {},
   "outputs": [],
   "source": [
    "# Student solution here.\n",
    "import nltk  \n",
    "import numpy as np  \n",
    "import random  \n",
    "import string\n",
    "\n",
    "import bs4 as bs  \n",
    "import urllib.request  \n",
    "import re \n",
    "import math \n",
    "from matplotlib import pylab\n",
    "import pylab as plt\n",
    "import numpy as np"
   ]
  },
  {
   "cell_type": "code",
   "execution_count": 210,
   "metadata": {},
   "outputs": [],
   "source": [
    "lower_case_sentences = []\n",
    "for i in sentences:\n",
    "    lower_case_sentences.append(i.lower())"
   ]
  },
  {
   "cell_type": "code",
   "execution_count": 211,
   "metadata": {},
   "outputs": [],
   "source": [
    "sans_punctuation_sentences = []\n",
    "import string\n",
    "\n",
    "for i in lower_case_sentences:\n",
    "    sans_punctuation_sentences.append(''.join(c for c in i if c not in string.punctuation))"
   ]
  },
  {
   "cell_type": "code",
   "execution_count": 212,
   "metadata": {},
   "outputs": [],
   "source": [
    "preprocessed_sentences = []\n",
    "for i in sans_punctuation_sentences:\n",
    "    preprocessed_sentences.append(i.split(' '))"
   ]
  },
  {
   "cell_type": "code",
   "execution_count": 213,
   "metadata": {},
   "outputs": [],
   "source": [
    "sentence_vectors = []\n",
    "for sentence in sans_punctuation_sentences:\n",
    "    sentence_tokens = nltk.word_tokenize(sentence)\n",
    "    sent_vec = []\n",
    "    for token in most_freq:\n",
    "        if token in sentence_tokens:\n",
    "            sent_vec.append(1)\n",
    "        else:\n",
    "            sent_vec.append(0)\n",
    "    sentence_vectors.append(sent_vec)\n"
   ]
  },
  {
   "cell_type": "code",
   "execution_count": 214,
   "metadata": {},
   "outputs": [],
   "source": [
    "import heapq\n",
    "most_freq = heapq.nlargest(200, wordfreq, key=wordfreq.get)"
   ]
  },
  {
   "cell_type": "code",
   "execution_count": 215,
   "metadata": {},
   "outputs": [],
   "source": [
    "sentence_vectors = np.asarray(sentence_vectors)"
   ]
  },
  {
   "cell_type": "code",
   "execution_count": 216,
   "metadata": {},
   "outputs": [
    {
     "data": {
      "text/html": [
       "<div>\n",
       "<style scoped>\n",
       "    .dataframe tbody tr th:only-of-type {\n",
       "        vertical-align: middle;\n",
       "    }\n",
       "\n",
       "    .dataframe tbody tr th {\n",
       "        vertical-align: top;\n",
       "    }\n",
       "\n",
       "    .dataframe thead th {\n",
       "        text-align: right;\n",
       "    }\n",
       "</style>\n",
       "<table border=\"1\" class=\"dataframe\">\n",
       "  <thead>\n",
       "    <tr style=\"text-align: right;\">\n",
       "      <th></th>\n",
       "      <th>0</th>\n",
       "      <th>1</th>\n",
       "      <th>2</th>\n",
       "      <th>3</th>\n",
       "      <th>4</th>\n",
       "      <th>5</th>\n",
       "      <th>6</th>\n",
       "      <th>7</th>\n",
       "      <th>8</th>\n",
       "      <th>9</th>\n",
       "      <th>...</th>\n",
       "      <th>190</th>\n",
       "      <th>191</th>\n",
       "      <th>192</th>\n",
       "      <th>193</th>\n",
       "      <th>194</th>\n",
       "      <th>195</th>\n",
       "      <th>196</th>\n",
       "      <th>197</th>\n",
       "      <th>198</th>\n",
       "      <th>199</th>\n",
       "    </tr>\n",
       "  </thead>\n",
       "  <tbody>\n",
       "    <tr>\n",
       "      <td>Need help pleese</td>\n",
       "      <td>0</td>\n",
       "      <td>0</td>\n",
       "      <td>0</td>\n",
       "      <td>0</td>\n",
       "      <td>0</td>\n",
       "      <td>0</td>\n",
       "      <td>0</td>\n",
       "      <td>0</td>\n",
       "      <td>0</td>\n",
       "      <td>0</td>\n",
       "      <td>...</td>\n",
       "      <td>0</td>\n",
       "      <td>0</td>\n",
       "      <td>0</td>\n",
       "      <td>0</td>\n",
       "      <td>0</td>\n",
       "      <td>0</td>\n",
       "      <td>0</td>\n",
       "      <td>0</td>\n",
       "      <td>0</td>\n",
       "      <td>0</td>\n",
       "    </tr>\n",
       "    <tr>\n",
       "      <td>Need help</td>\n",
       "      <td>0</td>\n",
       "      <td>0</td>\n",
       "      <td>0</td>\n",
       "      <td>0</td>\n",
       "      <td>0</td>\n",
       "      <td>0</td>\n",
       "      <td>0</td>\n",
       "      <td>0</td>\n",
       "      <td>0</td>\n",
       "      <td>0</td>\n",
       "      <td>...</td>\n",
       "      <td>0</td>\n",
       "      <td>0</td>\n",
       "      <td>0</td>\n",
       "      <td>0</td>\n",
       "      <td>0</td>\n",
       "      <td>0</td>\n",
       "      <td>0</td>\n",
       "      <td>0</td>\n",
       "      <td>0</td>\n",
       "      <td>0</td>\n",
       "    </tr>\n",
       "    <tr>\n",
       "      <td>I need some info</td>\n",
       "      <td>0</td>\n",
       "      <td>1</td>\n",
       "      <td>0</td>\n",
       "      <td>0</td>\n",
       "      <td>0</td>\n",
       "      <td>0</td>\n",
       "      <td>0</td>\n",
       "      <td>0</td>\n",
       "      <td>0</td>\n",
       "      <td>0</td>\n",
       "      <td>...</td>\n",
       "      <td>0</td>\n",
       "      <td>0</td>\n",
       "      <td>0</td>\n",
       "      <td>0</td>\n",
       "      <td>0</td>\n",
       "      <td>0</td>\n",
       "      <td>1</td>\n",
       "      <td>0</td>\n",
       "      <td>0</td>\n",
       "      <td>0</td>\n",
       "    </tr>\n",
       "    <tr>\n",
       "      <td>Will you help me?</td>\n",
       "      <td>0</td>\n",
       "      <td>0</td>\n",
       "      <td>0</td>\n",
       "      <td>0</td>\n",
       "      <td>0</td>\n",
       "      <td>0</td>\n",
       "      <td>0</td>\n",
       "      <td>0</td>\n",
       "      <td>0</td>\n",
       "      <td>1</td>\n",
       "      <td>...</td>\n",
       "      <td>0</td>\n",
       "      <td>0</td>\n",
       "      <td>0</td>\n",
       "      <td>0</td>\n",
       "      <td>0</td>\n",
       "      <td>0</td>\n",
       "      <td>0</td>\n",
       "      <td>0</td>\n",
       "      <td>0</td>\n",
       "      <td>0</td>\n",
       "    </tr>\n",
       "    <tr>\n",
       "      <td>What else can you do?</td>\n",
       "      <td>0</td>\n",
       "      <td>0</td>\n",
       "      <td>0</td>\n",
       "      <td>1</td>\n",
       "      <td>0</td>\n",
       "      <td>0</td>\n",
       "      <td>0</td>\n",
       "      <td>0</td>\n",
       "      <td>1</td>\n",
       "      <td>1</td>\n",
       "      <td>...</td>\n",
       "      <td>0</td>\n",
       "      <td>0</td>\n",
       "      <td>0</td>\n",
       "      <td>0</td>\n",
       "      <td>0</td>\n",
       "      <td>0</td>\n",
       "      <td>0</td>\n",
       "      <td>0</td>\n",
       "      <td>0</td>\n",
       "      <td>0</td>\n",
       "    </tr>\n",
       "    <tr>\n",
       "      <td>...</td>\n",
       "      <td>...</td>\n",
       "      <td>...</td>\n",
       "      <td>...</td>\n",
       "      <td>...</td>\n",
       "      <td>...</td>\n",
       "      <td>...</td>\n",
       "      <td>...</td>\n",
       "      <td>...</td>\n",
       "      <td>...</td>\n",
       "      <td>...</td>\n",
       "      <td>...</td>\n",
       "      <td>...</td>\n",
       "      <td>...</td>\n",
       "      <td>...</td>\n",
       "      <td>...</td>\n",
       "      <td>...</td>\n",
       "      <td>...</td>\n",
       "      <td>...</td>\n",
       "      <td>...</td>\n",
       "      <td>...</td>\n",
       "      <td>...</td>\n",
       "    </tr>\n",
       "    <tr>\n",
       "      <td>borrowed amount can be used for which of the purposes?</td>\n",
       "      <td>0</td>\n",
       "      <td>0</td>\n",
       "      <td>1</td>\n",
       "      <td>1</td>\n",
       "      <td>1</td>\n",
       "      <td>0</td>\n",
       "      <td>0</td>\n",
       "      <td>0</td>\n",
       "      <td>0</td>\n",
       "      <td>0</td>\n",
       "      <td>...</td>\n",
       "      <td>0</td>\n",
       "      <td>0</td>\n",
       "      <td>0</td>\n",
       "      <td>0</td>\n",
       "      <td>0</td>\n",
       "      <td>0</td>\n",
       "      <td>0</td>\n",
       "      <td>0</td>\n",
       "      <td>0</td>\n",
       "      <td>0</td>\n",
       "    </tr>\n",
       "    <tr>\n",
       "      <td>borrowed amount given can used by me for what reasons?</td>\n",
       "      <td>0</td>\n",
       "      <td>0</td>\n",
       "      <td>0</td>\n",
       "      <td>1</td>\n",
       "      <td>1</td>\n",
       "      <td>0</td>\n",
       "      <td>0</td>\n",
       "      <td>0</td>\n",
       "      <td>1</td>\n",
       "      <td>0</td>\n",
       "      <td>...</td>\n",
       "      <td>0</td>\n",
       "      <td>0</td>\n",
       "      <td>0</td>\n",
       "      <td>0</td>\n",
       "      <td>0</td>\n",
       "      <td>0</td>\n",
       "      <td>0</td>\n",
       "      <td>0</td>\n",
       "      <td>0</td>\n",
       "      <td>0</td>\n",
       "    </tr>\n",
       "    <tr>\n",
       "      <td>borrowed amount given can used by me for which purposes?</td>\n",
       "      <td>0</td>\n",
       "      <td>0</td>\n",
       "      <td>0</td>\n",
       "      <td>1</td>\n",
       "      <td>1</td>\n",
       "      <td>0</td>\n",
       "      <td>0</td>\n",
       "      <td>0</td>\n",
       "      <td>0</td>\n",
       "      <td>0</td>\n",
       "      <td>...</td>\n",
       "      <td>0</td>\n",
       "      <td>0</td>\n",
       "      <td>0</td>\n",
       "      <td>0</td>\n",
       "      <td>0</td>\n",
       "      <td>0</td>\n",
       "      <td>0</td>\n",
       "      <td>0</td>\n",
       "      <td>0</td>\n",
       "      <td>0</td>\n",
       "    </tr>\n",
       "    <tr>\n",
       "      <td>borrowed money can be used for which of the purposes?</td>\n",
       "      <td>0</td>\n",
       "      <td>0</td>\n",
       "      <td>1</td>\n",
       "      <td>1</td>\n",
       "      <td>1</td>\n",
       "      <td>0</td>\n",
       "      <td>0</td>\n",
       "      <td>0</td>\n",
       "      <td>0</td>\n",
       "      <td>0</td>\n",
       "      <td>...</td>\n",
       "      <td>0</td>\n",
       "      <td>0</td>\n",
       "      <td>0</td>\n",
       "      <td>0</td>\n",
       "      <td>0</td>\n",
       "      <td>0</td>\n",
       "      <td>0</td>\n",
       "      <td>0</td>\n",
       "      <td>0</td>\n",
       "      <td>0</td>\n",
       "    </tr>\n",
       "    <tr>\n",
       "      <td>borrow money given can used by me for what reasons?</td>\n",
       "      <td>0</td>\n",
       "      <td>0</td>\n",
       "      <td>0</td>\n",
       "      <td>1</td>\n",
       "      <td>1</td>\n",
       "      <td>0</td>\n",
       "      <td>0</td>\n",
       "      <td>0</td>\n",
       "      <td>1</td>\n",
       "      <td>0</td>\n",
       "      <td>...</td>\n",
       "      <td>0</td>\n",
       "      <td>0</td>\n",
       "      <td>0</td>\n",
       "      <td>0</td>\n",
       "      <td>0</td>\n",
       "      <td>0</td>\n",
       "      <td>0</td>\n",
       "      <td>0</td>\n",
       "      <td>0</td>\n",
       "      <td>0</td>\n",
       "    </tr>\n",
       "  </tbody>\n",
       "</table>\n",
       "<p>1113 rows × 200 columns</p>\n",
       "</div>"
      ],
      "text/plain": [
       "                                                    0    1    2    3    4    \\\n",
       "Need help pleese                                      0    0    0    0    0   \n",
       "Need help                                             0    0    0    0    0   \n",
       "I need some info                                      0    1    0    0    0   \n",
       "Will you help me?                                     0    0    0    0    0   \n",
       "What else can you do?                                 0    0    0    1    0   \n",
       "...                                                 ...  ...  ...  ...  ...   \n",
       "borrowed amount can be used for which of the pu...    0    0    1    1    1   \n",
       "borrowed amount given can used by me for what r...    0    0    0    1    1   \n",
       "borrowed amount given can used by me for which ...    0    0    0    1    1   \n",
       "borrowed money can be used for which of the pur...    0    0    1    1    1   \n",
       "borrow money given can used by me for what reas...    0    0    0    1    1   \n",
       "\n",
       "                                                    5    6    7    8    9    \\\n",
       "Need help pleese                                      0    0    0    0    0   \n",
       "Need help                                             0    0    0    0    0   \n",
       "I need some info                                      0    0    0    0    0   \n",
       "Will you help me?                                     0    0    0    0    1   \n",
       "What else can you do?                                 0    0    0    1    1   \n",
       "...                                                 ...  ...  ...  ...  ...   \n",
       "borrowed amount can be used for which of the pu...    0    0    0    0    0   \n",
       "borrowed amount given can used by me for what r...    0    0    0    1    0   \n",
       "borrowed amount given can used by me for which ...    0    0    0    0    0   \n",
       "borrowed money can be used for which of the pur...    0    0    0    0    0   \n",
       "borrow money given can used by me for what reas...    0    0    0    1    0   \n",
       "\n",
       "                                                    ...  190  191  192  193  \\\n",
       "Need help pleese                                    ...    0    0    0    0   \n",
       "Need help                                           ...    0    0    0    0   \n",
       "I need some info                                    ...    0    0    0    0   \n",
       "Will you help me?                                   ...    0    0    0    0   \n",
       "What else can you do?                               ...    0    0    0    0   \n",
       "...                                                 ...  ...  ...  ...  ...   \n",
       "borrowed amount can be used for which of the pu...  ...    0    0    0    0   \n",
       "borrowed amount given can used by me for what r...  ...    0    0    0    0   \n",
       "borrowed amount given can used by me for which ...  ...    0    0    0    0   \n",
       "borrowed money can be used for which of the pur...  ...    0    0    0    0   \n",
       "borrow money given can used by me for what reas...  ...    0    0    0    0   \n",
       "\n",
       "                                                    194  195  196  197  198  \\\n",
       "Need help pleese                                      0    0    0    0    0   \n",
       "Need help                                             0    0    0    0    0   \n",
       "I need some info                                      0    0    1    0    0   \n",
       "Will you help me?                                     0    0    0    0    0   \n",
       "What else can you do?                                 0    0    0    0    0   \n",
       "...                                                 ...  ...  ...  ...  ...   \n",
       "borrowed amount can be used for which of the pu...    0    0    0    0    0   \n",
       "borrowed amount given can used by me for what r...    0    0    0    0    0   \n",
       "borrowed amount given can used by me for which ...    0    0    0    0    0   \n",
       "borrowed money can be used for which of the pur...    0    0    0    0    0   \n",
       "borrow money given can used by me for what reas...    0    0    0    0    0   \n",
       "\n",
       "                                                    199  \n",
       "Need help pleese                                      0  \n",
       "Need help                                             0  \n",
       "I need some info                                      0  \n",
       "Will you help me?                                     0  \n",
       "What else can you do?                                 0  \n",
       "...                                                 ...  \n",
       "borrowed amount can be used for which of the pu...    0  \n",
       "borrowed amount given can used by me for what r...    0  \n",
       "borrowed amount given can used by me for which ...    0  \n",
       "borrowed money can be used for which of the pur...    0  \n",
       "borrow money given can used by me for what reas...    0  \n",
       "\n",
       "[1113 rows x 200 columns]"
      ]
     },
     "execution_count": 216,
     "metadata": {},
     "output_type": "execute_result"
    }
   ],
   "source": [
    "import pandas as pd\n",
    "frequency_matrix = pd.DataFrame(sentence_vectors,index=sentences)\n",
    "frequency_matrix"
   ]
  },
  {
   "cell_type": "markdown",
   "metadata": {},
   "source": [
    "## Problem 2: Activation Function"
   ]
  },
  {
   "cell_type": "markdown",
   "metadata": {},
   "source": [
    "<div class=\"alert alert-block alert-info\">\n",
    "For the classification task, the softmax activation function for the output layer with K classes is given by: \n",
    "$softmax(z_i) = \\frac{e^{z_i}}{{\\sum_{j=1}^{K}e^{z_j}}}$ <br>\n",
    "The activation function of the hidden neurons is a non-linear function. We have seen tanh being used in class, but more common these days are for example ReLU or sigmoid, given by: <br>\n",
    "$ReLU(z)=max(0,z)$ <br>\n",
    "$sigmoid(z)=\\frac{1}{1+e^{-z}}$ <br>\n",
    "\n",
    "Implement the softmax, ReLU, and sigmoid activation function in such a way that it accepts NumPy array and matrices. Plot the ReLU and sigmoid functions, as well as their derivatives. Observe the plot and discuss briefly what the advantages and disadvantages of the ReLU and sigmoid activation function might be. \n",
    "<div>"
   ]
  },
  {
   "cell_type": "markdown",
   "metadata": {},
   "source": [
    "### Softmax activation function"
   ]
  },
  {
   "cell_type": "code",
   "execution_count": 217,
   "metadata": {},
   "outputs": [],
   "source": [
    "def softmax(x, axis=None):\n",
    "    x = x - x.max(axis=axis, keepdims=True)\n",
    "    y = np.exp(x)\n",
    "    softmax = y / y.sum(axis=axis, keepdims=True)\n",
    "    return softmax"
   ]
  },
  {
   "cell_type": "code",
   "execution_count": 218,
   "metadata": {},
   "outputs": [],
   "source": [
    "def softmax_grad(s): \n",
    "\n",
    "    jacobian_m = np.diag(s)\n",
    "\n",
    "    for i in range(len(jacobian_m)):\n",
    "        for j in range(len(jacobian_m)):\n",
    "            if i == j:\n",
    "                jacobian_m[i][j] = s[i] * (1-s[i])\n",
    "            else: \n",
    "                jacobian_m[i][j] = -s[i]*s[j]\n",
    "    return jacobian_m"
   ]
  },
  {
   "cell_type": "code",
   "execution_count": 219,
   "metadata": {},
   "outputs": [
    {
     "name": "stderr",
     "output_type": "stream",
     "text": [
      "No handles with labels found to put in legend.\n"
     ]
    },
    {
     "data": {
      "image/png": "[encoded data removed]",
      "text/plain": [
       "<Figure size 432x288 with 1 Axes>"
      ]
     },
     "metadata": {
      "needs_background": "light"
     },
     "output_type": "display_data"
    }
   ],
   "source": [
    "mySamples = []\n",
    "mySigmoid = []\n",
    "\n",
    "x = plt.linspace(-10,10,10)\n",
    "y = plt.linspace(-10,10,100)\n",
    "\n",
    "plt.plot(x, softmax(x))\n",
    "plt.plot(y, softmax(y))\n",
    "\n",
    "plt.grid()\n",
    "\n",
    "plt.title('Softmax Function')\n",
    "plt.suptitle('Softmax')\n",
    "\n",
    "plt.legend(loc='lower right')\n",
    "\n",
    "plt.gca().xaxis.set_major_locator(plt.MultipleLocator(1))\n",
    "plt.gca().yaxis.set_major_locator(plt.MultipleLocator(0.1))\n",
    " \n",
    "plt.xlabel('X Axis')\n",
    "plt.ylabel('Y Axis')\n",
    "\n",
    "plt.show()"
   ]
  },
  {
   "cell_type": "markdown",
   "metadata": {},
   "source": [
    "mySamples = []\n",
    "mySigmoid = []\n",
    "\n",
    "x = plt.linspace(-10,10,10)\n",
    "y = plt.linspace(-10,10,100)\n",
    "\n",
    "plt.plot(x, softmax_grad(x))\n",
    "plt.plot(y, softmax_grad(y))\n",
    "\n",
    "plt.grid()\n",
    "\n",
    "plt.title('Softmax Function')\n",
    "plt.suptitle('Softmax')\n",
    "\n",
    "plt.legend(loc='lower right')\n",
    "\n",
    "plt.gca().xaxis.set_major_locator(plt.MultipleLocator(1))\n",
    "plt.gca().yaxis.set_major_locator(plt.MultipleLocator(0.1))\n",
    " \n",
    "plt.xlabel('X Axis')\n",
    "plt.ylabel('Y Axis')\n",
    "\n",
    "plt.show()"
   ]
  },
  {
   "cell_type": "markdown",
   "metadata": {},
   "source": [
    "### ReLu activation function"
   ]
  },
  {
   "cell_type": "code",
   "execution_count": 220,
   "metadata": {},
   "outputs": [],
   "source": [
    "def ReLU(x):\n",
    "    return abs(x) * (x > 0)\n",
    "\n",
    "def d_relu(z):\n",
    "    z[z>0]=1\n",
    "    z[z<=0]=0\n",
    "    return z"
   ]
  },
  {
   "cell_type": "code",
   "execution_count": 221,
   "metadata": {},
   "outputs": [
    {
     "name": "stderr",
     "output_type": "stream",
     "text": [
      "No handles with labels found to put in legend.\n"
     ]
    },
    {
     "data": {
      "image/png": "[encoded data removed]",
      "text/plain": [
       "<Figure size 432x288 with 1 Axes>"
      ]
     },
     "metadata": {
      "needs_background": "light"
     },
     "output_type": "display_data"
    }
   ],
   "source": [
    "mySamples = []\n",
    "mySigmoid = []\n",
    "\n",
    "x = plt.linspace(-10,10,10)\n",
    "y = plt.linspace(-10,10,100)\n",
    "\n",
    "plt.plot(x, ReLU(x))\n",
    "plt.plot(y, ReLU(y))\n",
    "\n",
    "plt.grid()\n",
    "\n",
    "plt.title('ReLU Function')\n",
    "plt.suptitle('ReLU')\n",
    "\n",
    "plt.legend(loc='lower right')\n",
    "\n",
    "plt.gca().xaxis.set_major_locator(plt.MultipleLocator(1))\n",
    "plt.gca().yaxis.set_major_locator(plt.MultipleLocator(0.1))\n",
    " \n",
    "plt.xlabel('X Axis')\n",
    "plt.ylabel('Y Axis')\n",
    "\n",
    "plt.show()"
   ]
  },
  {
   "cell_type": "code",
   "execution_count": 222,
   "metadata": {},
   "outputs": [
    {
     "name": "stderr",
     "output_type": "stream",
     "text": [
      "No handles with labels found to put in legend.\n"
     ]
    },
    {
     "data": {
      "image/png": "[encoded data removed]",
      "text/plain": [
       "<Figure size 432x288 with 1 Axes>"
      ]
     },
     "metadata": {
      "needs_background": "light"
     },
     "output_type": "display_data"
    }
   ],
   "source": [
    "plt.plot(x, d_relu(x))\n",
    "plt.plot(y, d_relu(y))\n",
    "\n",
    "plt.grid()\n",
    "\n",
    "plt.title('ReLU Function Derivative')\n",
    "plt.suptitle('ReLU Derivative')\n",
    "\n",
    "plt.legend(loc='lower right')\n",
    "\n",
    "\n",
    "plt.gca().xaxis.set_major_locator(plt.MultipleLocator(1))\n",
    "plt.gca().yaxis.set_major_locator(plt.MultipleLocator(0.1))\n",
    " \n",
    "plt.xlabel('X Axis')\n",
    "plt.ylabel('Y Axis')\n",
    "\n",
    "plt.show()"
   ]
  },
  {
   "cell_type": "markdown",
   "metadata": {},
   "source": [
    "### Sigmoid activation function"
   ]
  },
  {
   "cell_type": "code",
   "execution_count": 223,
   "metadata": {},
   "outputs": [],
   "source": [
    "def sigmoid(x):\n",
    "    \n",
    "  return 1 / (1 + math.exp(-x))\n",
    "\n",
    "sigmoid_v = np.vectorize(sigmoid)"
   ]
  },
  {
   "cell_type": "code",
   "execution_count": 224,
   "metadata": {},
   "outputs": [],
   "source": [
    "from scipy.special import expit as sigmoid\n",
    "def sigmoid_grad(x):\n",
    "    fx = sigmoid_v(x)\n",
    "    return fx * (1 - fx)"
   ]
  },
  {
   "cell_type": "code",
   "execution_count": 225,
   "metadata": {},
   "outputs": [
    {
     "name": "stderr",
     "output_type": "stream",
     "text": [
      "No handles with labels found to put in legend.\n"
     ]
    },
    {
     "data": {
      "image/png": "[encoded data removed]",
      "text/plain": [
       "<Figure size 432x288 with 1 Axes>"
      ]
     },
     "metadata": {
      "needs_background": "light"
     },
     "output_type": "display_data"
    }
   ],
   "source": [
    "mySamples = []\n",
    "mySigmoid = []\n",
    "\n",
    "x = plt.linspace(-10,10,10)\n",
    "y = plt.linspace(-10,10,100)\n",
    "\n",
    "plt.plot(x, sigmoid_v(x))\n",
    "plt.plot(y, sigmoid_v(y))\n",
    "\n",
    "plt.grid()\n",
    "\n",
    "plt.title('Sigmoid Function')\n",
    "plt.suptitle('Sigmoid')\n",
    "\n",
    "plt.legend(loc='lower right')\n",
    "\n",
    "\n",
    "plt.gca().xaxis.set_major_locator(plt.MultipleLocator(1))\n",
    "plt.gca().yaxis.set_major_locator(plt.MultipleLocator(0.1))\n",
    "\n",
    "plt.xlabel('X Axis')\n",
    "plt.ylabel('Y Axis')\n",
    "\n",
    "plt.show()"
   ]
  },
  {
   "cell_type": "code",
   "execution_count": 226,
   "metadata": {},
   "outputs": [
    {
     "name": "stderr",
     "output_type": "stream",
     "text": [
      "No handles with labels found to put in legend.\n"
     ]
    },
    {
     "data": {
      "image/png": "[encoded data removed]",
      "text/plain": [
       "<Figure size 432x288 with 1 Axes>"
      ]
     },
     "metadata": {
      "needs_background": "light"
     },
     "output_type": "display_data"
    }
   ],
   "source": [
    "mySamples = []\n",
    "mySigmoid = []\n",
    "\n",
    "x = plt.linspace(-10,10,10)\n",
    "y = plt.linspace(-10,10,100)\n",
    "\n",
    "plt.plot(x, sigmoid_grad(x))\n",
    "plt.plot(y, sigmoid_grad(y))\n",
    "\n",
    "plt.grid()\n",
    "\n",
    "plt.title('Sigmoid Function Derivative')\n",
    "plt.suptitle('Sigmoid Derivative')\n",
    "\n",
    "plt.legend(loc='lower right')\n",
    "\n",
    "plt.gca().xaxis.set_major_locator(plt.MultipleLocator(1))\n",
    "plt.gca().yaxis.set_major_locator(plt.MultipleLocator(0.1))\n",
    "\n",
    "plt.xlabel('X Axis')\n",
    "plt.ylabel('Y Axis')\n",
    "\n",
    "plt.show()"
   ]
  },
  {
   "cell_type": "markdown",
   "metadata": {},
   "source": [
    "## Problem 3: Feedforward Neural Network"
   ]
  },
  {
   "cell_type": "markdown",
   "metadata": {},
   "source": [
    "<div class=\"alert alert-block alert-info\">\n",
    "Now that you have created the input matrix, we can implement our neural network and perform a forward propagation to classify intent. To perform the forward propagation, you should compute $z^{l}$ and pass it through the activation function for each layer, given by: <br><br>\n",
    "$z^{l} = W^{l}a^{l-1} + b^{l}$ <br>\n",
    "$a^{l} = g(z^{l})$ <br>\n",
    "where $W^{l}$ is a weight matrix between layer $l$ and $l+1$, $z^{l}$ is value of the hidden layer at layer $l$ before activation, $a^{l}$ is value of the hidden layer at layer $l$ after activation, and $b^{l}$ is bias term for layer $l$.\n",
    "\n",
    "You should implement the feedforward computation that computes $\\hat{y_{i}}$ for every example $i$. The neural network has 3 layers - an input layer, a hidden layer and an output layer, where the hidden layer has 150 neurons. Don't forget to include the bias term. Use ReLU as the activation function for the hidden layer and softmax for the output layer. For parameters initialization, use random values from uniform distribution in the range (-1,1). Provide a seed value to the random number generator, to make the results reproducible. The purpose of using this kind of initialisation is to break symmetry and ensure that different neurons can learn different non-linear functions. (Hint: use vectorization methods instead of a for loop for speedup.) <br><br>\n",
    "\n",
    "Use this neural network to predict the intent and calculate the accuracy of the classifier. (Should you be expecting high numbers yet?)\n",
    "<div>"
   ]
  },
  {
   "cell_type": "code",
   "execution_count": 227,
   "metadata": {},
   "outputs": [],
   "source": [
    "# Student solution here."
   ]
  },
  {
   "cell_type": "code",
   "execution_count": 228,
   "metadata": {},
   "outputs": [],
   "source": [
    "#HYPERPARAMETERS\n",
    "\n",
    "#num of target labels\n",
    "num_classes = len(np.unique(intent))\n",
    "\n",
    "#define layer_neurons\n",
    "input_units  = 890   #neurons in input layer\n",
    "hidden_units = 150  #neurons in hidden layer\n",
    "output_units = 21   #neurons in output layer\n",
    "\n",
    "#define hyper-parameters\n",
    "learning_rate = 0.03\n",
    "\n",
    "#regularization parameter\n",
    "beta = 0.00001\n",
    "\n",
    "#num of iterations\n",
    "iters = 4001"
   ]
  },
  {
   "cell_type": "code",
   "execution_count": 229,
   "metadata": {},
   "outputs": [],
   "source": [
    "#PARAMETERS\n",
    "\n",
    "#initialize parameters i.e weights\n",
    "def initialize_parameters():\n",
    "    #initial values should have zero mean and 0.1 standard deviation\n",
    "    mean = 0        #mean of parameters \n",
    "    std = 0.03      #standard deviation\n",
    "    \n",
    "    layer1_weights = np.random.normal(mean,std,(input_units,hidden_units))          \n",
    "    layer1_biases = np.ones((hidden_units,1))                                       \n",
    "    layer2_weights = np.random.normal(mean,std,(hidden_units,output_units))\n",
    "    layer2_biases = np.ones((output_units,1))\n",
    "    \n",
    "    parameters = dict()\n",
    "    parameters['layer1_weights'] = layer1_weights\n",
    "    parameters['layer1_biases'] = layer1_biases\n",
    "    parameters['layer2_weights'] = layer2_weights\n",
    "    parameters['layer2_biases'] = layer2_biases\n",
    "    \n",
    "    return parameters"
   ]
  },
  {
   "cell_type": "code",
   "execution_count": 230,
   "metadata": {},
   "outputs": [],
   "source": [
    "#forward propagation\n",
    "def forward_propagation(train_dataset,parameters):\n",
    "    cache = dict()            \n",
    "    m = len(train_dataset)    \n",
    "    \n",
    "    layer1_weights = parameters['layer1_weights']\n",
    "    layer1_biases = parameters['layer1_biases']\n",
    "    layer2_weights = parameters['layer2_weights']\n",
    "    layer2_biases = parameters['layer2_biases']\n",
    "    \n",
    "    \n",
    "    logits = np.dot(train_dataset,layer1_weights) + layer1_biases.T\n",
    "    activation1 = np.array(ReLU(logits)).reshape(m,hidden_units)\n",
    "    activation2 = np.array(np.matmul(activation1,layer2_weights) + layer2_biases.T).reshape(m,output_units)\n",
    "    output = np.array(softmax(activation2)).reshape(m,num_classes)\n",
    "    \n",
    "   \n",
    "    cache['output'] = output\n",
    "    cache['activation1'] = activation1\n",
    "    \n",
    "    return cache,output"
   ]
  },
  {
   "cell_type": "markdown",
   "metadata": {},
   "source": [
    "## Problem 4: Backpropagation"
   ]
  },
  {
   "cell_type": "markdown",
   "metadata": {},
   "source": [
    "<div class=\"alert alert-block alert-info\">\n",
    "You will now implement the backpropagation algorithm to compute the gradient of the cost function with respect to the neural network weights' and bias term.  First of all, implement the cross entropy loss function to monitor if your model is actually learning. Remember that in backpropagation, we want to propagate the error signal to measure how much each neuron in the hidden layer contributes to the error in the output layer. It is more or less similar to forward propagation but in a reverse direction. For the output layer, set $\\delta$ for cross entropy loss: <br><br>\n",
    "$\\delta^{L}= \\hat{y} - y$ <br> where $L$ is the output layer and $\\hat{y}$ is prediction of $y$. <br>\n",
    "\n",
    "For the remaining hidden layer $l$, set: <br><br>\n",
    "$\\delta^{l} = (W^{l})^{T}\\delta^{l+1} \\odot g'(z^{l})$ <br> where $\\odot$ is an element-wise product of matrices (Hadamard product), $g'$ is the derivative of the activation function. <br>\n",
    "\n",
    "The derivative of the ReLU is given by:  $ReLU'(z) = \\begin{cases} 1 & \\text{if } z > 0 \\\\\n",
    "                                                                                                                                      0 & \\text{otherwise}.\\end{cases}$<br>\n",
    "\n",
    "By calculating the error term for each layer, you can then use the error term to calculate the partial derivatives $\\frac{\\partial \\mathcal{L}}{\\partial W^{l}} = \\delta_{l+1} (a^{l})^{T}$ and $\\frac{\\partial \\mathcal{L}}{\\partial b^{l}} = \\delta_{l+1}$ and perform batch gradient descent to update the parameter. (Batch gradient descent = run through all training instances and compute the gradient, then make the weight update.) Make sure that you accumulate the gradients for all the training samples and divide it by number of samples before doing the update. <br><br>\n",
    "\n",
    "Here is some simple pseudocode to help with the training procedure: <br>\n",
    " * for number of epoch:\n",
    "    > define gradient accumulator $\\Delta w=0, \\Delta b=0$ for each weight and bias term <br>\n",
    "    > define cost accumulator $\\Delta \\mathcal{L}=0$ for the loss <br>\n",
    "    \n",
    "    > for each training example $i$:<br>\n",
    "        >> perform forward propagation <br>\n",
    "        >> calculate loss on example $i, L_{i}$ <br>\n",
    "        >> $\\Delta \\mathcal{L} = \\Delta \\mathcal{L} + L_{i}$ <br> <br> \n",
    "        >> perform backpropagation <br>\n",
    "        >> $\\Delta w = \\Delta w + \\frac{\\partial \\mathcal{L}}{\\partial W}$ for each weight <br>\n",
    "        >> $\\Delta b = \\Delta b + \\frac{\\partial \\mathcal{L}}{\\partial b}$ for each bias term <br> \n",
    "        \n",
    "    > calculate the cost, which is just average loss ($Cost = \\frac{1}{m}\\Delta \\mathcal{L}$) <br>\n",
    "    > $w = w - \\frac{\\alpha}{m}\\Delta w$ for each weight <br>\n",
    "    > $b = b - \\frac{\\alpha}{m}\\Delta b$ for each bias term <br> \n",
    "\n",
    "Run the training for 1000 epoch using learning rate = 0.005 and use this neural network to predict the intent and calculate the accuracy of the classifier. (Hint: the dimension of $\\delta^{l}$ should match the dimension of $a^{l}$, and the dimension of $\\frac{\\partial \\mathcal{L}}{\\partial W^{l}}$ and $\\frac{\\partial \\mathcal{L}}{\\partial b^{l}}$ should match the dimension of $W^{l}$ and $b^{l}$, respectively).<br><br>\n",
    "\n",
    "Plot the cost function for each iteration and compare the results after training with results from Problem 3. Discuss what you observe!\n",
    "<div>"
   ]
  },
  {
   "cell_type": "code",
   "execution_count": 231,
   "metadata": {},
   "outputs": [],
   "source": [
    "#backward propagation\n",
    "def backward_propagation(train_dataset,train_labels,parameters,cache):\n",
    "    derivatives = dict()         #to store the derivatives\n",
    "    \n",
    "    #get stuff from cache\n",
    "    output = cache['output']\n",
    "    activation1 = cache['activation1']\n",
    "    \n",
    "    #get parameters\n",
    "    layer1_weights = parameters['layer1_weights']\n",
    "    layer2_weights = parameters['layer2_weights']\n",
    "    \n",
    "    #calculate errors\n",
    "    error_output = output - train_labels\n",
    "    error_activation1 = np.matmul(error_output,layer2_weights.T)\n",
    "    error_activation1 = np.multiply(error_activation1,activation1)\n",
    "    error_activation1 = np.multiply(error_activation1,1-activation1)\n",
    "    \n",
    "    \n",
    "    #calculate partial derivatives\n",
    "    partial_derivatives2 = np.matmul(activation1.T,error_output)/len(train_dataset)\n",
    "    partial_derivatives1 = np.matmul(train_dataset.T,error_activation1)/len(train_dataset)\n",
    "    \n",
    "    #store the derivatives\n",
    "    derivatives['partial_derivatives1'] = partial_derivatives1\n",
    "    derivatives['partial_derivatives2'] = partial_derivatives2\n",
    "    \n",
    "    return derivatives"
   ]
  },
  {
   "cell_type": "code",
   "execution_count": 232,
   "metadata": {},
   "outputs": [],
   "source": [
    "#update the parameters\n",
    "def update_parameters(derivatives,parameters):\n",
    "    #get the parameters\n",
    "    layer1_weights = parameters['layer1_weights']\n",
    "    layer2_weights = parameters['layer2_weights']\n",
    "    \n",
    "    #get the derivatives\n",
    "    partial_derivatives1 = derivatives['partial_derivatives1']\n",
    "    partial_derivatives2 = derivatives['partial_derivatives2']\n",
    "    \n",
    "    #update the derivatives\n",
    "    layer1_weights -= (learning_rate*(partial_derivatives1 + beta*layer1_weights))\n",
    "    layer2_weights -= (learning_rate*(partial_derivatives2 + beta*layer2_weights))\n",
    "    \n",
    "    #update the dict\n",
    "    parameters['layer1_weights'] = layer1_weights\n",
    "    parameters['layer2_weights'] = layer2_weights\n",
    "    \n",
    "    return parameters\n",
    "    \n",
    "#calculate the loss and accuracy\n",
    "def cal_loss_accuray(train_labels,predictions,parameters):\n",
    "    #get the parameters\n",
    "    layer1_weights = parameters['layer1_weights']\n",
    "    layer2_weights = parameters['layer2_weights']\n",
    "    \n",
    "    #cal loss and accuracy\n",
    "    loss = -1*np.sum(np.multiply(np.log(predictions),train_labels) + np.multiply(np.log(1-predictions),(1-train_labels)))/len(train_labels) + np.sum(layer1_weights**2)*beta/len(train_labels) + np.sum(layer2_weights**2)*beta/len(train_labels)\n",
    "    accuracy = np.sum(np.argmax(train_labels,axis=1)==np.argmax(predictions,axis=1))\n",
    "    accuracy /= len(train_dataset)\n",
    "    \n",
    "    return loss,accuracy"
   ]
  },
  {
   "cell_type": "markdown",
   "metadata": {},
   "source": [
    "### Train Function\n",
    "1. Initialize Parameters\n",
    "2. Forward Propagation\n",
    "3. Backward Propagation\n",
    "4. Calculate Loss and Accuracy\n",
    "5. Update the parameters\n",
    "\n",
    "Repeat the steps 2-5 for the given number of iterations"
   ]
  },
  {
   "cell_type": "code",
   "execution_count": 233,
   "metadata": {},
   "outputs": [],
   "source": [
    "\n",
    "def train(train_dataset,train_labels,iters=2):\n",
    "    J = []\n",
    "  \n",
    "    #WEIGHTS\n",
    "    global layer1_weights\n",
    "    global layer1_biases\n",
    "    global layer2_weights\n",
    "    global layer2_biases\n",
    "  \n",
    "    #initialize the parameters\n",
    "    parameters = initialize_parameters()\n",
    "    \n",
    "    layer1_weights = parameters['layer1_weights']\n",
    "    layer1_biases = parameters['layer1_biases']\n",
    "    layer2_weights = parameters['layer2_weights']\n",
    "    layer2_biases = parameters['layer2_biases']\n",
    "    \n",
    "    #to store final predictons after training\n",
    "    final_output = []\n",
    "    \n",
    "    for j in range(iters):\n",
    "        #forward propagation\n",
    "        cache,output = forward_propagation(train_dataset,parameters)\n",
    "        \n",
    "        #backward propagation\n",
    "        derivatives = backward_propagation(train_dataset,train_labels,parameters,cache)\n",
    "        \n",
    "        #calculate the loss and accuracy\n",
    "        loss,accuracy = cal_loss_accuray(train_labels,output,parameters)\n",
    "        \n",
    "        #update the parameters\n",
    "        parameters = update_parameters(derivatives,parameters)\n",
    "        \n",
    "        #append loss\n",
    "        J.append(loss)\n",
    "        \n",
    "        #update final output\n",
    "        final_output = output\n",
    "        \n",
    "        #print accuracy and loss\n",
    "        if(j%500==0):\n",
    "            print(\"Step %d\"%j)\n",
    "            print(\"Loss %f\"%loss)\n",
    "            print(\"Accuracy %f%%\"%(accuracy*100))\n",
    "    \n",
    "    return J,final_output"
   ]
  },
  {
   "cell_type": "markdown",
   "metadata": {},
   "source": [
    "### Prediction"
   ]
  },
  {
   "cell_type": "code",
   "execution_count": 234,
   "metadata": {},
   "outputs": [],
   "source": [
    "\n",
    "# lets take 80% data as training and remaining 20% for test.\n",
    "train_size = int(len(data) * .8)\n",
    "test_size = int(len(data) * .2)\n",
    " \n",
    "train_dataset = preprocessed_sentences[:train_size]\n",
    "train_labels = intent[:train_size]\n",
    "\n",
    "test_dataset = preprocessed_sentences[:test_size]\n",
    "test_labels = intent[:test_size]"
   ]
  },
  {
   "cell_type": "code",
   "execution_count": 235,
   "metadata": {},
   "outputs": [],
   "source": [
    "from sklearn.preprocessing import LabelBinarizer\n",
    "encoder = LabelBinarizer()\n",
    "encoder.fit(train_intent)\n",
    "train_labels = encoder.transform(train_intent)\n",
    "test_labels = encoder.transform(test_intent)"
   ]
  },
  {
   "cell_type": "code",
   "execution_count": 236,
   "metadata": {},
   "outputs": [
    {
     "ename": "ValueError",
     "evalue": "setting an array element with a sequence",
     "output_type": "error",
     "traceback": [
      "\u001b[0;31m---------------------------------------------------------------------------\u001b[0m",
      "\u001b[0;31mValueError\u001b[0m                                Traceback (most recent call last)",
      "\u001b[0;32m<ipython-input-236-254f566b3964>\u001b[0m in \u001b[0;36m<module>\u001b[0;34m\u001b[0m\n\u001b[0;32m----> 1\u001b[0;31m \u001b[0mJ\u001b[0m\u001b[0;34m,\u001b[0m\u001b[0mfinal_output\u001b[0m \u001b[0;34m=\u001b[0m \u001b[0mtrain\u001b[0m\u001b[0;34m(\u001b[0m\u001b[0mtrain_sentences\u001b[0m\u001b[0;34m,\u001b[0m\u001b[0mtrain_intent\u001b[0m\u001b[0;34m,\u001b[0m\u001b[0miters\u001b[0m\u001b[0;34m=\u001b[0m\u001b[0;36m4001\u001b[0m\u001b[0;34m)\u001b[0m\u001b[0;34m\u001b[0m\u001b[0;34m\u001b[0m\u001b[0m\n\u001b[0m",
      "\u001b[0;32m<ipython-input-233-faa038697cc1>\u001b[0m in \u001b[0;36mtrain\u001b[0;34m(train_dataset, train_labels, iters)\u001b[0m\n\u001b[1;32m     21\u001b[0m     \u001b[0;32mfor\u001b[0m \u001b[0mj\u001b[0m \u001b[0;32min\u001b[0m \u001b[0mrange\u001b[0m\u001b[0;34m(\u001b[0m\u001b[0miters\u001b[0m\u001b[0;34m)\u001b[0m\u001b[0;34m:\u001b[0m\u001b[0;34m\u001b[0m\u001b[0;34m\u001b[0m\u001b[0m\n\u001b[1;32m     22\u001b[0m         \u001b[0;31m#forward propagation\u001b[0m\u001b[0;34m\u001b[0m\u001b[0;34m\u001b[0m\u001b[0;34m\u001b[0m\u001b[0m\n\u001b[0;32m---> 23\u001b[0;31m         \u001b[0mcache\u001b[0m\u001b[0;34m,\u001b[0m\u001b[0moutput\u001b[0m \u001b[0;34m=\u001b[0m \u001b[0mforward_propagation\u001b[0m\u001b[0;34m(\u001b[0m\u001b[0mtrain_dataset\u001b[0m\u001b[0;34m,\u001b[0m\u001b[0mparameters\u001b[0m\u001b[0;34m)\u001b[0m\u001b[0;34m\u001b[0m\u001b[0;34m\u001b[0m\u001b[0m\n\u001b[0m\u001b[1;32m     24\u001b[0m \u001b[0;34m\u001b[0m\u001b[0m\n\u001b[1;32m     25\u001b[0m         \u001b[0;31m#backward propagation\u001b[0m\u001b[0;34m\u001b[0m\u001b[0;34m\u001b[0m\u001b[0;34m\u001b[0m\u001b[0m\n",
      "\u001b[0;32m<ipython-input-230-86283b761762>\u001b[0m in \u001b[0;36mforward_propagation\u001b[0;34m(train_dataset, parameters)\u001b[0m\n\u001b[1;32m     10\u001b[0m \u001b[0;34m\u001b[0m\u001b[0m\n\u001b[1;32m     11\u001b[0m \u001b[0;34m\u001b[0m\u001b[0m\n\u001b[0;32m---> 12\u001b[0;31m     \u001b[0mlogits\u001b[0m \u001b[0;34m=\u001b[0m \u001b[0mnp\u001b[0m\u001b[0;34m.\u001b[0m\u001b[0mdot\u001b[0m\u001b[0;34m(\u001b[0m\u001b[0mtrain_dataset\u001b[0m\u001b[0;34m,\u001b[0m\u001b[0mlayer1_weights\u001b[0m\u001b[0;34m)\u001b[0m \u001b[0;34m+\u001b[0m \u001b[0mlayer1_biases\u001b[0m\u001b[0;34m.\u001b[0m\u001b[0mT\u001b[0m\u001b[0;34m\u001b[0m\u001b[0;34m\u001b[0m\u001b[0m\n\u001b[0m\u001b[1;32m     13\u001b[0m     \u001b[0mactivation1\u001b[0m \u001b[0;34m=\u001b[0m \u001b[0mnp\u001b[0m\u001b[0;34m.\u001b[0m\u001b[0marray\u001b[0m\u001b[0;34m(\u001b[0m\u001b[0mReLU\u001b[0m\u001b[0;34m(\u001b[0m\u001b[0mlogits\u001b[0m\u001b[0;34m)\u001b[0m\u001b[0;34m)\u001b[0m\u001b[0;34m.\u001b[0m\u001b[0mreshape\u001b[0m\u001b[0;34m(\u001b[0m\u001b[0mm\u001b[0m\u001b[0;34m,\u001b[0m\u001b[0mhidden_units\u001b[0m\u001b[0;34m)\u001b[0m\u001b[0;34m\u001b[0m\u001b[0;34m\u001b[0m\u001b[0m\n\u001b[1;32m     14\u001b[0m     \u001b[0mactivation2\u001b[0m \u001b[0;34m=\u001b[0m \u001b[0mnp\u001b[0m\u001b[0;34m.\u001b[0m\u001b[0marray\u001b[0m\u001b[0;34m(\u001b[0m\u001b[0mnp\u001b[0m\u001b[0;34m.\u001b[0m\u001b[0mmatmul\u001b[0m\u001b[0;34m(\u001b[0m\u001b[0mactivation1\u001b[0m\u001b[0;34m,\u001b[0m\u001b[0mlayer2_weights\u001b[0m\u001b[0;34m)\u001b[0m \u001b[0;34m+\u001b[0m \u001b[0mlayer2_biases\u001b[0m\u001b[0;34m.\u001b[0m\u001b[0mT\u001b[0m\u001b[0;34m)\u001b[0m\u001b[0;34m.\u001b[0m\u001b[0mreshape\u001b[0m\u001b[0;34m(\u001b[0m\u001b[0mm\u001b[0m\u001b[0;34m,\u001b[0m\u001b[0moutput_units\u001b[0m\u001b[0;34m)\u001b[0m\u001b[0;34m\u001b[0m\u001b[0;34m\u001b[0m\u001b[0m\n",
      "\u001b[0;32m<__array_function__ internals>\u001b[0m in \u001b[0;36mdot\u001b[0;34m(*args, **kwargs)\u001b[0m\n",
      "\u001b[0;31mValueError\u001b[0m: setting an array element with a sequence"
     ]
    }
   ],
   "source": [
    "J,final_output = train(train_sentences,train_intent,iters=4001)"
   ]
  },
  {
   "cell_type": "markdown",
   "metadata": {},
   "source": [
    "### Plot the loss vs iteration graph"
   ]
  },
  {
   "cell_type": "code",
   "execution_count": 193,
   "metadata": {},
   "outputs": [
    {
     "ename": "NameError",
     "evalue": "name 'J' is not defined",
     "output_type": "error",
     "traceback": [
      "\u001b[0;31m---------------------------------------------------------------------------\u001b[0m",
      "\u001b[0;31mNameError\u001b[0m                                 Traceback (most recent call last)",
      "\u001b[0;32m<ipython-input-193-a3eea91183e6>\u001b[0m in \u001b[0;36m<module>\u001b[0;34m\u001b[0m\n\u001b[1;32m      1\u001b[0m \u001b[0;31m#plot loss graph\u001b[0m\u001b[0;34m\u001b[0m\u001b[0;34m\u001b[0m\u001b[0;34m\u001b[0m\u001b[0m\n\u001b[0;32m----> 2\u001b[0;31m \u001b[0mplt\u001b[0m\u001b[0;34m.\u001b[0m\u001b[0mplot\u001b[0m\u001b[0;34m(\u001b[0m\u001b[0mlist\u001b[0m\u001b[0;34m(\u001b[0m\u001b[0mrange\u001b[0m\u001b[0;34m(\u001b[0m\u001b[0;36m1\u001b[0m\u001b[0;34m,\u001b[0m\u001b[0mlen\u001b[0m\u001b[0;34m(\u001b[0m\u001b[0mJ\u001b[0m\u001b[0;34m)\u001b[0m\u001b[0;34m)\u001b[0m\u001b[0;34m)\u001b[0m\u001b[0;34m,\u001b[0m\u001b[0mJ\u001b[0m\u001b[0;34m[\u001b[0m\u001b[0;36m1\u001b[0m\u001b[0;34m:\u001b[0m\u001b[0;34m]\u001b[0m\u001b[0;34m)\u001b[0m\u001b[0;34m\u001b[0m\u001b[0;34m\u001b[0m\u001b[0m\n\u001b[0m\u001b[1;32m      3\u001b[0m \u001b[0mplt\u001b[0m\u001b[0;34m.\u001b[0m\u001b[0mxlabel\u001b[0m\u001b[0;34m(\u001b[0m\u001b[0;34m'Iterations'\u001b[0m\u001b[0;34m)\u001b[0m\u001b[0;34m\u001b[0m\u001b[0;34m\u001b[0m\u001b[0m\n\u001b[1;32m      4\u001b[0m \u001b[0mplt\u001b[0m\u001b[0;34m.\u001b[0m\u001b[0mylabel\u001b[0m\u001b[0;34m(\u001b[0m\u001b[0;34m'Loss'\u001b[0m\u001b[0;34m)\u001b[0m\u001b[0;34m\u001b[0m\u001b[0;34m\u001b[0m\u001b[0m\n\u001b[1;32m      5\u001b[0m \u001b[0mplt\u001b[0m\u001b[0;34m.\u001b[0m\u001b[0mtitle\u001b[0m\u001b[0;34m(\u001b[0m\u001b[0;34m'Iterations VS Loss'\u001b[0m\u001b[0;34m)\u001b[0m\u001b[0;34m\u001b[0m\u001b[0;34m\u001b[0m\u001b[0m\n",
      "\u001b[0;31mNameError\u001b[0m: name 'J' is not defined"
     ]
    }
   ],
   "source": [
    "#plot loss graph\n",
    "plt.plot(list(range(1,len(J))),J[1:])\n",
    "plt.xlabel('Iterations')\n",
    "plt.ylabel('Loss')\n",
    "plt.title('Iterations VS Loss')\n",
    "plt.show()"
   ]
  },
  {
   "cell_type": "markdown",
   "metadata": {},
   "source": [
    "## Bonus: Mini-Batch and Stochastic Gradient Descent"
   ]
  },
  {
   "cell_type": "markdown",
   "metadata": {},
   "source": [
    "<div class=\"alert alert-block alert-info\">\n",
    "As a bonus, train the neural network using mini-batch gradient descent with batch size = 64 and stochastic gradient descent (i.e., batch size = 1) for 1000 epoch using learning rate = 0.005. Plot the cost vs iteration for both cases and briefly discuss your observation!  \n",
    "<div>"
   ]
  },
  {
   "cell_type": "code",
   "execution_count": null,
   "metadata": {},
   "outputs": [],
   "source": []
  }
 ],
 "metadata": {
  "kernelspec": {
   "display_name": "Python 3",
   "language": "python",
   "name": "python3"
  },
  "language_info": {
   "codemirror_mode": {
    "name": "ipython",
    "version": 3
   },
   "file_extension": ".py",
   "mimetype": "text/x-python",
   "name": "python",
   "nbconvert_exporter": "python",
   "pygments_lexer": "ipython3",
   "version": "3.7.4"
  },
  "latex_envs": {
   "LaTeX_envs_menu_present": true,
   "autoclose": false,
   "autocomplete": true,
   "bibliofile": "biblio.bib",
   "cite_by": "apalike",
   "current_citInitial": 1,
   "eqLabelWithNumbers": true,
   "eqNumInitial": 1,
   "hotkeys": {
    "equation": "ctrl-q"
   },
   "labels_anchors": false,
   "latex_user_defs": false,
   "report_style_numbering": false,
   "user_envs_cfg": false
  },
  "toc": {
   "base_numbering": 1,
   "nav_menu": {},
   "number_sections": true,
   "sideBar": true,
   "skip_h1_title": false,
   "title_cell": "Table of Contents",
   "title_sidebar": "Contents",
   "toc_cell": false,
   "toc_position": {},
   "toc_section_display": true,
   "toc_window_display": false
  }
 },
 "nbformat": 4,
 "nbformat_minor": 2
}
